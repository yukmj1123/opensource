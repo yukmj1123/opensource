{
 "cells": [
  {
   "cell_type": "code",
   "execution_count": 3,
   "id": "d0f81d17",
   "metadata": {
    "executionInfo": {
     "elapsed": 958,
     "status": "ok",
     "timestamp": 1639582148386,
     "user": {
      "displayName": "‍이홍재[학생](전자정보대학 전자공학과)",
      "photoUrl": "https://lh3.googleusercontent.com/a/default-user=s64",
      "userId": "15375391309743651264"
     },
     "user_tz": -540
    },
    "id": "d0f81d17"
   },
   "outputs": [],
   "source": [
    "import pandas as pd\n",
    "import numpy as np\n",
    "import matplotlib.pyplot as plt\n",
    "from sklearn.linear_model import LinearRegression\n",
    "df = pd.read_csv('C:/Users/82109/Desktop/daegu_test.csv', encoding='cp949')"
   ]
  },
  {
   "cell_type": "code",
   "execution_count": 4,
   "id": "368abb40",
   "metadata": {
    "colab": {
     "base_uri": "https://localhost:8080/"
    },
    "executionInfo": {
     "elapsed": 268,
     "status": "ok",
     "timestamp": 1639581424297,
     "user": {
      "displayName": "‍이홍재[학생](전자정보대학 전자공학과)",
      "photoUrl": "https://lh3.googleusercontent.com/a/default-user=s64",
      "userId": "15375391309743651264"
     },
     "user_tz": -540
    },
    "id": "368abb40",
    "outputId": "ed937be9-32a2-4009-db89-2263dd876700"
   },
   "outputs": [
    {
     "name": "stdout",
     "output_type": "stream",
     "text": [
      "area           object\n",
      "spot           object\n",
      "latitude      float64\n",
      "longtitude    float64\n",
      "tourist1        int64\n",
      "tourist2        int64\n",
      "tourist3        int64\n",
      "tourist4        int64\n",
      "dtype: object\n"
     ]
    }
   ],
   "source": [
    "print(df.dtypes)"
   ]
  },
  {
   "cell_type": "code",
   "execution_count": 5,
   "id": "253e9bf0",
   "metadata": {
    "colab": {
     "base_uri": "https://localhost:8080/"
    },
    "executionInfo": {
     "elapsed": 292,
     "status": "ok",
     "timestamp": 1639581426579,
     "user": {
      "displayName": "‍이홍재[학생](전자정보대학 전자공학과)",
      "photoUrl": "https://lh3.googleusercontent.com/a/default-user=s64",
      "userId": "15375391309743651264"
     },
     "user_tz": -540
    },
    "id": "253e9bf0",
    "outputId": "b02ff7a1-4205-48ba-a9ca-3a4a483db5c5"
   },
   "outputs": [
    {
     "name": "stdout",
     "output_type": "stream",
     "text": [
      "                                       tourist1  tourist2  tourist3  tourist4\n",
      "spot                                                                         \n",
      "Ayang Railway                            581757    634795    630075    157779\n",
      "Daegu Meteorological Science Museum       10887     77228     11058      1420\n",
      "Former President Tae-woo's birthplace     24686     40769     38781      8514\n",
      "Palgongsan Cable Car                     333197    351164    199299     37571\n",
      "Ruins of General Shin Sung-gyeom         437007    469617    158220      4361\n",
      "gotbawee                                 364582    455574    636885     91246\n"
     ]
    }
   ],
   "source": [
    "print(df.groupby('spot')[['tourist1','tourist2','tourist3','tourist4']].mean())"
   ]
  },
  {
   "cell_type": "code",
   "execution_count": 6,
   "id": "zTflNbILrbHy",
   "metadata": {
    "colab": {
     "base_uri": "https://localhost:8080/"
    },
    "executionInfo": {
     "elapsed": 5,
     "status": "ok",
     "timestamp": 1639582538632,
     "user": {
      "displayName": "‍이홍재[학생](전자정보대학 전자공학과)",
      "photoUrl": "https://lh3.googleusercontent.com/a/default-user=s64",
      "userId": "15375391309743651264"
     },
     "user_tz": -540
    },
    "id": "zTflNbILrbHy",
    "outputId": "e70ec876-19ff-4c9f-c6cd-6fa9b28d0569"
   },
   "outputs": [
    {
     "name": "stdout",
     "output_type": "stream",
     "text": [
      "[[364582. 455574. 636885.  91246.]\n",
      " [ 10887.  77228.  11058.   1420.]\n",
      " [ 24686.  40769.  38781.   8514.]\n",
      " [437007. 469617. 158220.   4361.]\n",
      " [581757. 634795. 630075. 157779.]\n",
      " [333197. 351164. 199299.  37571.]]\n"
     ]
    }
   ],
   "source": [
    "tourlist = np.zeros((6,4))\n",
    "tourlist[:,0] = df['tourist1'].tolist()\n",
    "tourlist[:,1] = df['tourist2'].tolist()\n",
    "tourlist[:,2] = df['tourist3'].tolist()\n",
    "tourlist[:,3] = df['tourist4'].tolist()\n",
    "print(tourlist)"
   ]
  },
  {
   "cell_type": "code",
   "execution_count": 7,
   "id": "gHIBfzNis06t",
   "metadata": {
    "colab": {
     "base_uri": "https://localhost:8080/",
     "height": 283
    },
    "executionInfo": {
     "elapsed": 818,
     "status": "ok",
     "timestamp": 1639582573064,
     "user": {
      "displayName": "‍이홍재[학생](전자정보대학 전자공학과)",
      "photoUrl": "https://lh3.googleusercontent.com/a/default-user=s64",
      "userId": "15375391309743651264"
     },
     "user_tz": -540
    },
    "id": "gHIBfzNis06t",
    "outputId": "737daae4-3f57-4814-d2e8-f5b6087261f9"
   },
   "outputs": [
    {
     "data": {
      "text/plain": [
       "[<matplotlib.lines.Line2D at 0x22a42330d30>]"
      ]
     },
     "execution_count": 7,
     "metadata": {},
     "output_type": "execute_result"
    },
    {
     "data": {
      "image/png": "[encoded data removed]",
      "text/plain": [
       "<Figure size 432x288 with 1 Axes>"
      ]
     },
     "metadata": {
      "needs_background": "light"
     },
     "output_type": "display_data"
    }
   ],
   "source": [
    "plt.plot(tourlist[0])\n",
    "plt.plot(tourlist[1])\n",
    "plt.plot(tourlist[2])\n",
    "plt.plot(tourlist[3])"
   ]
  },
  {
   "cell_type": "code",
   "execution_count": 8,
   "id": "5-TFYnXLven8",
   "metadata": {
    "colab": {
     "base_uri": "https://localhost:8080/"
    },
    "executionInfo": {
     "elapsed": 345,
     "status": "ok",
     "timestamp": 1639582689136,
     "user": {
      "displayName": "‍이홍재[학생](전자정보대학 전자공학과)",
      "photoUrl": "https://lh3.googleusercontent.com/a/default-user=s64",
      "userId": "15375391309743651264"
     },
     "user_tz": -540
    },
    "id": "5-TFYnXLven8",
    "outputId": "07f01e94-9b90-4616-f6af-3733b2423264"
   },
   "outputs": [
    {
     "data": {
      "text/plain": [
       "array([0, 1, 2, 3])"
      ]
     },
     "execution_count": 8,
     "metadata": {},
     "output_type": "execute_result"
    }
   ],
   "source": [
    "np.arange(4)"
   ]
  },
  {
   "cell_type": "code",
   "execution_count": 9,
   "id": "gQwb0d9Gtk1Y",
   "metadata": {
    "colab": {
     "base_uri": "https://localhost:8080/",
     "height": 283
    },
    "executionInfo": {
     "elapsed": 452,
     "status": "ok",
     "timestamp": 1639583044634,
     "user": {
      "displayName": "‍이홍재[학생](전자정보대학 전자공학과)",
      "photoUrl": "https://lh3.googleusercontent.com/a/default-user=s64",
      "userId": "15375391309743651264"
     },
     "user_tz": -540
    },
    "id": "gQwb0d9Gtk1Y",
    "outputId": "200c7f8c-a673-44d8-8425-2a8ed41f7072"
   },
   "outputs": [
    {
     "data": {
      "text/plain": [
       "[<matplotlib.lines.Line2D at 0x22a4242a9a0>]"
      ]
     },
     "execution_count": 9,
     "metadata": {},
     "output_type": "execute_result"
    },
    {
     "data": {
      "image/png": "[encoded data removed]",
      "text/plain": [
       "<Figure size 432x288 with 1 Axes>"
      ]
     },
     "metadata": {
      "needs_background": "light"
     },
     "output_type": "display_data"
    }
   ],
   "source": [
    "line_fitter = LinearRegression()\n",
    "y_pred = np.zeros((6,5))\n",
    "y_pred[:,:4] = tourlist\n",
    "for i in range(tourlist.shape[0]):\n",
    "  line_fitter.fit(np.arange(4).reshape(-1,1), tourlist[i])\n",
    "  y_pred[i,4] = line_fitter.predict([[5]])\n",
    "\n",
    "plt.plot(y_pred[0])\n",
    "plt.plot(y_pred[1])\n",
    "plt.plot(y_pred[2])\n",
    "plt.plot(y_pred[3])"
   ]
  },
  {
   "cell_type": "code",
   "execution_count": null,
   "id": "0b0857b9",
   "metadata": {},
   "outputs": [],
   "source": []
  },
  {
   "cell_type": "code",
   "execution_count": null,
   "id": "737d3e89",
   "metadata": {},
   "outputs": [],
   "source": []
  }
 ],
 "metadata": {
  "colab": {
   "collapsed_sections": [],
   "name": "666.ipynb",
   "provenance": []
  },
  "kernelspec": {
   "display_name": "Python 3",
   "language": "python",
   "name": "python3"
  },
  "language_info": {
   "codemirror_mode": {
    "name": "ipython",
    "version": 3
   },
   "file_extension": ".py",
   "mimetype": "text/x-python",
   "name": "python",
   "nbconvert_exporter": "python",
   "pygments_lexer": "ipython3",
   "version": "3.8.8"
  }
 },
 "nbformat": 4,
 "nbformat_minor": 5
}
